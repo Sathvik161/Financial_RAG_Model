{
 "cells": [
  {
   "cell_type": "code",
   "execution_count": 24,
   "id": "45ed58d0",
   "metadata": {},
   "outputs": [],
   "source": [
    "import os\n",
    "from langchain.text_splitter import RecursiveCharacterTextSplitter\n",
    "from langchain.chains import create_retrieval_chain\n",
    "from langchain_core.prompts import ChatPromptTemplate\n",
    "from langchain_community.vectorstores import FAISS\n",
    "from langchain_google_genai import GoogleGenerativeAIEmbeddings\n",
    "from langchain.chains.combine_documents import create_stuff_documents_chain\n",
    "from langchain_groq import ChatGroq\n",
    "from llama_parse import LlamaParse\n",
    "from dotenv import load_dotenv\n",
    "import tempfile\n",
    "import asyncio\n",
    "import nest_asyncio\n",
    "\n",
    "# Apply the nest_asyncio to allow nested event loops\n",
    "\n",
    "nest_asyncio.apply()"
   ]
  },
  {
   "cell_type": "code",
   "execution_count": 25,
   "id": "0a2eab95",
   "metadata": {},
   "outputs": [],
   "source": [
    "# Load API keys from .env file\n",
    "load_dotenv()\n",
    "os.environ[\"GOOGLE_API_KEY\"] = os.getenv(\"GOOGLE_API_KEY\")\n",
    "os.environ[\"GROQ_API_KEY\"] = os.getenv(\"GROQ_API_KEY\")\n",
    "GOOGLE_EMBEDDING_MODEL = \"models/embedding-001\""
   ]
  },
  {
   "cell_type": "code",
   "execution_count": 26,
   "id": "53a8419a",
   "metadata": {
    "lines_to_next_cell": 1
   },
   "outputs": [],
   "source": [
    "# Initialize the language model (ChatGroq in this case)\n",
    "llm = ChatGroq(\n",
    "    groq_api_key=os.getenv(\"GROQ_API_KEY\"),\n",
    "    model_name=\"Llama3-8b-8192\"\n",
    ")"
   ]
  },
  {
   "cell_type": "code",
   "execution_count": 27,
   "id": "192070a3",
   "metadata": {
    "lines_to_next_cell": 1
   },
   "outputs": [],
   "source": [
    "# Function to process PDF with LlamaParse\n",
    "def process_pdf_with_llamaparse(pdf_file):\n",
    "    \"\"\"\n",
    "    Use LlamaParse to extract the content of a PDF as markdown.\n",
    "    Returns a single concatenated markdown string.\n",
    "    \"\"\"\n",
    "    try:\n",
    "        # LlamaParse returns a list of Document objects\n",
    "        markdown_data = LlamaParse(result_type=\"markdown\").load_data(pdf_file)\n",
    "        \n",
    "        # Extract the 'text' attribute from each Document and join them\n",
    "        markdown_text = \"\\n\".join(doc.text for doc in markdown_data)\n",
    "\n",
    "        return markdown_text\n",
    "    except Exception as e:\n",
    "        print(f\"Error extracting markdown with LlamaParse: {e}\")\n",
    "        return None"
   ]
  },
  {
   "cell_type": "code",
   "execution_count": 28,
   "id": "aaf63dfb",
   "metadata": {
    "lines_to_next_cell": 1
   },
   "outputs": [],
   "source": [
    "# Function to embed Markdown text and create a vector store\n",
    "def vector_embedding_from_markdown(markdown_text):\n",
    "    # Initialize embeddings\n",
    "    embeddings = GoogleGenerativeAIEmbeddings(model=GOOGLE_EMBEDDING_MODEL)\n",
    "    \n",
    "    # Split markdown text into smaller chunks\n",
    "    splitter = RecursiveCharacterTextSplitter(chunk_size=1000, chunk_overlap=200)\n",
    "    documents = splitter.split_text(markdown_text)\n",
    "\n",
    "    # Generate embeddings and store in FAISS\n",
    "    vectors = FAISS.from_texts(documents, embeddings)\n",
    "    \n",
    "    # Return the vectors for use in retrieval\n",
    "    return vectors"
   ]
  },
  {
   "cell_type": "code",
   "execution_count": 29,
   "id": "d3876bb1",
   "metadata": {
    "lines_to_next_cell": 1
   },
   "outputs": [],
   "source": [
    "# Define the prompt template\n",
    "prompt = ChatPromptTemplate.from_template(\"\"\" \n",
    "You are a financial analyst tasked with answering questions based on the provided financial data. Your answers should be clear, concise, and well-reasoned, using the data to support your conclusions. If any calculations are required, please perform them step-by-step, showing your process. If necessary, break down complex questions into simpler components and reason with the data accordingly.\n",
    "\n",
    "Please ensure your answer:\n",
    "1. Refers explicitly to relevant data points or sections from the provided context.\n",
    "2. Includes any necessary calculations with clear steps and reasoning behind them.\n",
    "3. Uses data-driven logic to answer, especially when multiple data points are involved.\n",
    "4. If you need to make any assumptions to answer the question, clearly state them.\n",
    "\n",
    "Context:\n",
    "{context}\n",
    "\n",
    "Question: {input}\n",
    "\n",
    "Answer:\n",
    "\n",
    "\"\"\")"
   ]
  },
  {
   "cell_type": "code",
   "execution_count": 30,
   "id": "40dd6016",
   "metadata": {
    "lines_to_next_cell": 1
   },
   "outputs": [],
   "source": [
    "# Function to process the uploaded PDF, extract text, and return the answer to the query\n",
    "def process_pdf_and_query(pdf_file_path, user_query):\n",
    "    # Convert PDF to Markdown using LlamaParse\n",
    "    markdown_text = process_pdf_with_llamaparse(pdf_file_path)\n",
    "    if markdown_text:\n",
    "        # Embed the Markdown into the vector store\n",
    "        vectors = vector_embedding_from_markdown(markdown_text)\n",
    "\n",
    "        # Create the RAG pipeline\n",
    "        llm_chain = create_stuff_documents_chain(llm=llm, prompt=prompt)\n",
    "        retriever = vectors.as_retriever()\n",
    "        retrieval_chain = create_retrieval_chain(retriever, llm_chain)\n",
    "\n",
    "        # Get the response to the user query\n",
    "        response = retrieval_chain.invoke({\"input\": user_query})\n",
    "\n",
    "        # Return the answer\n",
    "        return response[\"answer\"]\n",
    "    else:\n",
    "        return \"Error processing PDF.\""
   ]
  },
  {
   "cell_type": "code",
   "execution_count": 31,
   "id": "cb530fc1",
   "metadata": {},
   "outputs": [],
   "source": [
    "# Example usage:\n",
    "pdf_file_path = \"Sample Financial Statement.pdf\"  # Provide the path to your PDF\n",
    "user_query = \"What are the total expenses for Q2 2023??\""
   ]
  },
  {
   "cell_type": "code",
   "execution_count": 37,
   "id": "3514f117",
   "metadata": {},
   "outputs": [
    {
     "name": "stdout",
     "output_type": "stream",
     "text": [
      "Started parsing the file under job_id 7fc14e01-d691-4b8c-a042-451bf01877cb\n"
     ]
    }
   ],
   "source": [
    "# Get the answer for the user's query\n",
    "answer = process_pdf_and_query(pdf_file_path, user_query)"
   ]
  },
  {
   "cell_type": "code",
   "execution_count": 38,
   "id": "b7b49ede",
   "metadata": {},
   "outputs": [
    {
     "name": "stdout",
     "output_type": "stream",
     "text": [
      "Answer: To find the total expenses for Q2 2023, we need to add up the expenses for the three months ended March 31, 2023.\n",
      "\n",
      "The relevant data is as follows:\n",
      "\n",
      "|Expenses|Three months ended March 31, 2023|\n",
      "|---|---|\n",
      "|Employee benefit expenses|20,311|\n",
      "|Cost of software packages and others|2,886|\n",
      "|Other expenses|1,146|\n",
      "|Total expenses|29,646|\n",
      "\n",
      "Therefore, the total expenses for Q2 2023 are ₹ 29,646 crore.\n"
     ]
    }
   ],
   "source": [
    "# Print the answer\n",
    "print(\"Answer:\", answer)"
   ]
  },
  {
   "cell_type": "code",
   "execution_count": 46,
   "id": "7233bd7b",
   "metadata": {},
   "outputs": [
    {
     "name": "stdout",
     "output_type": "stream",
     "text": [
      "Started parsing the file under job_id 5940ab12-04ab-489d-9f7d-0b3686ed78c0\n"
     ]
    }
   ],
   "source": [
    "user_query = \"What is the gross profit for Q3 2024?\"\n",
    "answer = process_pdf_and_query(pdf_file_path, user_query)"
   ]
  },
  {
   "cell_type": "code",
   "execution_count": 47,
   "id": "66a9f39f",
   "metadata": {},
   "outputs": [
    {
     "name": "stdout",
     "output_type": "stream",
     "text": [
      "Answer: To find the gross profit for Q3 2024, we need to calculate it based on the provided data.\n",
      "\n",
      "From the table, the revenue from operations for Q3 2024 is 37,923, and the cost of sales is 26,748.\n",
      "\n",
      "Gross Profit = Revenue from operations - Cost of sales\n",
      "= 37,923 - 26,748\n",
      "= 11,175\n",
      "\n",
      "Therefore, the gross profit for Q3 2024 is 11,175.\n"
     ]
    }
   ],
   "source": [
    "# Print the answer\n",
    "print(\"Answer:\", answer)"
   ]
  }
 ],
 "metadata": {
  "jupytext": {
   "cell_metadata_filter": "-all",
   "main_language": "python",
   "notebook_metadata_filter": "-all"
  },
  "kernelspec": {
   "display_name": "venv",
   "language": "python",
   "name": "python3"
  },
  "language_info": {
   "codemirror_mode": {
    "name": "ipython",
    "version": 3
   },
   "file_extension": ".py",
   "mimetype": "text/x-python",
   "name": "python",
   "nbconvert_exporter": "python",
   "pygments_lexer": "ipython3",
   "version": "3.11.9"
  }
 },
 "nbformat": 4,
 "nbformat_minor": 5
}
